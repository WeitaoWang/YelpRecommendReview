{
 "cells": [
  {
   "cell_type": "code",
   "execution_count": 3,
   "metadata": {
    "collapsed": false
   },
   "outputs": [
    {
     "name": "stdout",
     "output_type": "stream",
     "text": [
      "done\n"
     ]
    }
   ],
   "source": [
    "import json\n",
    "from pprint import pprint\n",
    "from sklearn.feature_extraction.text import TfidfVectorizer\n",
    "\n",
    "\n",
    "with open('./rawData.json', 'r') as f:\n",
    "\treview = json.load(f)\n",
    "business_group = {}\n",
    "rating_group = {}\n",
    "rating = {}\n",
    "\n",
    "#initial data\n",
    "for i in range(0, len(review)) :\n",
    "    #get reviews divided by business_group\n",
    "    if review[i]['business_id'] in business_group:\n",
    "        business_group[review[i]['business_id']] += ' ' + review[i]['text']\n",
    "    else:\n",
    "        business_group[review[i]['business_id']] = review[i]['text']\n",
    "    #get reviews grouped by business_group and rating\n",
    "    if review[i]['business_id'] in rating_group:\n",
    "        if review[i]['stars'] in rating_group[review[i]['business_id']]:\n",
    "            rating_group[review[i]['business_id']][review[i]['stars']] += ' ' + review[i]['text']\n",
    "        else:\n",
    "            rating_group[review[i]['business_id']][review[i]['stars']] = review[i]['text']\n",
    "    else:\n",
    "        rating_group[review[i]['business_id']] = {}\n",
    "    #get reviews by rating stars\n",
    "    if review[i]['stars'] in rating:\n",
    "        rating[review[i]['stars']] += ' ' + review[i]['text']\n",
    "    else:\n",
    "        rating[review[i]['stars']] = review[i]['text']\n",
    "print('done')"
   ]
  },
  {
   "cell_type": "code",
   "execution_count": 1,
   "metadata": {
    "collapsed": true
   },
   "outputs": [],
   "source": [
    "def process_prase_score(dense):\n",
    "    episode = dense.tolist()[0]\n",
    "    phrase_scores = [pair for pair in zip(range(0, len(episode)), episode) if pair[1] > 0]\n",
    "    sorted_phrase_scores = sorted(phrase_scores, key=lambda t: t[1] * -1)\n",
    "    return sorted_phrase_scores"
   ]
  },
  {
   "cell_type": "code",
   "execution_count": null,
   "metadata": {
    "collapsed": true
   },
   "outputs": [],
   "source": []
  },
  {
   "cell_type": "code",
   "execution_count": 2,
   "metadata": {
    "collapsed": false
   },
   "outputs": [
    {
     "ename": "NameError",
     "evalue": "name 'business_group' is not defined",
     "output_type": "error",
     "traceback": [
      "\u001b[0;31m---------------------------------------------------------------------------\u001b[0m",
      "\u001b[0;31mNameError\u001b[0m                                 Traceback (most recent call last)",
      "\u001b[0;32m<ipython-input-2-15bde743b4db>\u001b[0m in \u001b[0;36m<module>\u001b[0;34m()\u001b[0m\n\u001b[1;32m      1\u001b[0m \u001b[0;31m#Let's specific on certain business_id, for example, 'diVJtnXItoMymDfJkSAV1w'\u001b[0m\u001b[0;34m\u001b[0m\u001b[0;34m\u001b[0m\u001b[0m\n\u001b[1;32m      2\u001b[0m \u001b[0mindex\u001b[0m \u001b[0;34m=\u001b[0m \u001b[0;36m0\u001b[0m\u001b[0;34m\u001b[0m\u001b[0m\n\u001b[0;32m----> 3\u001b[0;31m \u001b[0;32mfor\u001b[0m \u001b[0mkey\u001b[0m\u001b[0;34m,\u001b[0m \u001b[0mvalue\u001b[0m \u001b[0;32min\u001b[0m \u001b[0mbusiness_group\u001b[0m\u001b[0;34m.\u001b[0m\u001b[0mitems\u001b[0m\u001b[0;34m(\u001b[0m\u001b[0;34m)\u001b[0m\u001b[0;34m:\u001b[0m\u001b[0;34m\u001b[0m\u001b[0m\n\u001b[0m\u001b[1;32m      4\u001b[0m     \u001b[0;32mif\u001b[0m \u001b[0mindex\u001b[0m \u001b[0;34m==\u001b[0m \u001b[0;36m12\u001b[0m\u001b[0;34m:\u001b[0m\u001b[0;34m\u001b[0m\u001b[0m\n\u001b[1;32m      5\u001b[0m         \u001b[0;32mprint\u001b[0m\u001b[0;34m(\u001b[0m\u001b[0mkey\u001b[0m\u001b[0;34m)\u001b[0m\u001b[0;34m\u001b[0m\u001b[0m\n",
      "\u001b[0;31mNameError\u001b[0m: name 'business_group' is not defined"
     ]
    }
   ],
   "source": [
    "#Let's specific on certain business_id, for example, 'diVJtnXItoMymDfJkSAV1w'\n",
    "index = 0\n",
    "for key, value in business_group.items():\n",
    "    if index == 12:\n",
    "        print(key)\n",
    "    index += 1"
   ]
  },
  {
   "cell_type": "code",
   "execution_count": 139,
   "metadata": {
    "collapsed": false
   },
   "outputs": [
    {
     "name": "stdout",
     "output_type": "stream",
     "text": [
      "done\n",
      "5\n"
     ]
    }
   ],
   "source": [
    "#get reviews of the business_id grouped by rating\n",
    "certain_business_review = []\n",
    "for key, value in rating_group.items():\n",
    "    if key == 'diVJtnXItoMymDfJkSAV1w':\n",
    "        for k,v in value.items():\n",
    "            certain_business_review.append(v)\n",
    "print('done')\n",
    "print(len(certain_business_review))\n"
   ]
  },
  {
   "cell_type": "code",
   "execution_count": 140,
   "metadata": {
    "collapsed": false
   },
   "outputs": [
    {
     "name": "stdout",
     "output_type": "stream",
     "text": [
      "5\n"
     ]
    }
   ],
   "source": [
    "#analyze tfidf of reviews based on specific business_id\n",
    "tf = TfidfVectorizer(analyzer='word', ngram_range=(1,3), min_df = 0, stop_words = 'english')\n",
    "tfidf_matrix = tf.fit_transform(certain_business_review)\n",
    "feature_names = tf.get_feature_names()\n",
    "\n",
    "dense = tfidf_matrix.todense()\n",
    "print(len(dense))"
   ]
  },
  {
   "cell_type": "code",
   "execution_count": 141,
   "metadata": {
    "collapsed": false
   },
   "outputs": [
    {
     "name": "stdout",
     "output_type": "stream",
     "text": [
      "36\n",
      "1596\n",
      "1707\n",
      "5344\n",
      "5769\n",
      "36\n",
      "1596\n",
      "1707\n",
      "5344\n",
      "5769\n"
     ]
    }
   ],
   "source": [
    "tmp_freq_word_rating_businessid = {}\n",
    "for i in range(len(dense)):\n",
    "    sorted_phrase_scores = process_prase_score(dense[i])\n",
    "    for phrase, score in [(feature_names[word_id], score) for (word_id, score) in sorted_phrase_scores][:300]:\n",
    "        if phrase in tmp_freq_word_rating_businessid:\n",
    "            tmp_freq_word_rating_businessid[phrase] += 1\n",
    "        else:\n",
    "            tmp_freq_word_rating_businessid[phrase] = 1\n",
    "tmp_distinct_word_rating_businessid = []\n",
    "for i in range(len(dense)):\n",
    "    sorted_phrase_scores = process_prase_score(dense[i])\n",
    "    tmp_data = []\n",
    "    for phrase, score in [(feature_names[word_id], score) for (word_id, score) in sorted_phrase_scores][:300]:\n",
    "        if tmp_freq_word_rating_businessid[phrase] <= 2:\n",
    "            tmp_data.append(phrase)\n",
    "    tmp_distinct_word_rating_businessid.append(tmp_data)"
   ]
  },
  {
   "cell_type": "code",
   "execution_count": 134,
   "metadata": {
    "collapsed": false
   },
   "outputs": [
    {
     "name": "stdout",
     "output_type": "stream",
     "text": [
      "27\n",
      "257\n",
      "220\n",
      "212\n",
      "216\n"
     ]
    }
   ],
   "source": [
    "#Pointless\n",
    "for d in tmp_distinct_word_rating_businessid:\n",
    "    print(len(d))"
   ]
  },
  {
   "cell_type": "code",
   "execution_count": 166,
   "metadata": {
    "collapsed": false
   },
   "outputs": [
    {
     "name": "stdout",
     "output_type": "stream",
     "text": [
      "####star_rating1####\n",
      "bland yams\n",
      "bland yams weren\n",
      "breast mac\n",
      "breast mac cheese\n",
      "cheese yams chicken\n",
      "chicken breast mac\n",
      "chicken great hot\n",
      "great hot\n",
      "great hot mac\n",
      "hot mac\n",
      "hot mac kinda\n",
      "kinda bland\n",
      "kinda bland yams\n",
      "mac cheese yams\n",
      "mac kinda\n",
      "mac kinda bland\n",
      "yams chicken great\n",
      "yams weren\n",
      "yams weren best\n",
      "cheese yams\n",
      "####star_rating2####\n",
      "asked\n",
      "arrived\n",
      "hour\n",
      "meals\n",
      "booth\n",
      "half hour\n",
      "11\n",
      "45\n",
      "arrived waitress\n",
      "dining room\n",
      "excuse\n",
      "room\n",
      "told\n",
      "35\n",
      "dining\n",
      "food arrived\n",
      "served\n",
      "waiting\n",
      "brought\n",
      "lady\n",
      "####star_rating3####\n",
      "sweet potato\n",
      "based\n",
      "boyfriend\n",
      "enjoyed\n",
      "toast\n",
      "cheddar\n",
      "fish stew\n",
      "potato fries\n",
      "pretty\n",
      "sweet potato fries\n",
      "tried\n",
      "asking\n",
      "atmosphere just\n",
      "craving\n",
      "craving soul\n",
      "craving soul food\n",
      "dingy\n",
      "got fried\n",
      "got fried chicken\n",
      "hungry\n",
      "####star_rating4####\n",
      "place\n",
      "menu\n",
      "potato fries\n",
      "pretty\n",
      "shrimp grits\n",
      "sweet potato\n",
      "sweet potato fries\n",
      "99\n",
      "area\n",
      "slow\n",
      "end\n",
      "favorite\n",
      "groupon\n",
      "sunday\n",
      "chicken dumpling soup\n",
      "moist\n",
      "sauce\n",
      "bacon\n",
      "big\n",
      "dumplings\n",
      "####star_rating5####\n",
      "place\n",
      "corn\n",
      "family\n",
      "spicy\n",
      "fried corn\n",
      "stars\n",
      "chicken dumpling soup\n",
      "come\n",
      "new\n",
      "carmi family\n",
      "chops\n",
      "favorite\n",
      "amazing\n",
      "menu\n",
      "pittsburgh\n",
      "potatoes\n",
      "wife\n",
      "blackened\n",
      "creamy\n",
      "pork chops\n"
     ]
    }
   ],
   "source": [
    "#0: worst rating; 4:best rating\n",
    "for i in range(len(tmp_distinct_word_rating_businessid)):\n",
    "    print('####star_rating' + str(i + 1) + '####')\n",
    "    index = 0\n",
    "    for d in tmp_distinct_word_rating_businessid[i]:\n",
    "        index += 1\n",
    "        print(d)\n",
    "        if index == 20:\n",
    "            break"
   ]
  },
  {
   "cell_type": "code",
   "execution_count": null,
   "metadata": {
    "collapsed": true
   },
   "outputs": [],
   "source": []
  },
  {
   "cell_type": "code",
   "execution_count": 33,
   "metadata": {
    "collapsed": false
   },
   "outputs": [
    {
     "name": "stdout",
     "output_type": "stream",
     "text": [
      "done\n"
     ]
    }
   ],
   "source": [
    "#get Recommended words by business_id\n",
    "sdata = []        \n",
    "for key, value in business_group.items():\n",
    "    sdata.append(value)\n",
    "\n",
    "print('done')"
   ]
  },
  {
   "cell_type": "code",
   "execution_count": 143,
   "metadata": {
    "collapsed": false
   },
   "outputs": [
    {
     "name": "stdout",
     "output_type": "stream",
     "text": [
      "3625\n"
     ]
    }
   ],
   "source": [
    "#analyze tfidf of reviews\n",
    "tf2 = TfidfVectorizer(analyzer='word', ngram_range=(1,3), min_df = 0, stop_words = 'english')\n",
    "tfidf_matrix2 = tf2.fit_transform(sdata)\n",
    "feature_names2 = tf2.get_feature_names()\n",
    "\n",
    "dense2 = tfidf_matrix2.todense()\n",
    "print(len(dense2))"
   ]
  },
  {
   "cell_type": "code",
   "execution_count": 149,
   "metadata": {
    "collapsed": false
   },
   "outputs": [
    {
     "name": "stdout",
     "output_type": "stream",
     "text": [
      "13239\n",
      "mac cheese           0.184343036822\n",
      "chicken waffles      0.154211038261\n",
      "fried chicken        0.141571664755\n",
      "chicken dumpling     0.105681206443\n",
      "soul food            0.102723047614\n",
      "chicken dumpling soup 0.0942246452899\n",
      "dumpling soup        0.088678312018\n",
      "shrimp grits         0.0703989867453\n",
      "candied yams         0.0619160048353\n",
      "fish stew            0.0606269405571\n",
      "fried corn           0.0567563377657\n",
      "chicken breast       0.0509278946909\n",
      "banana pudding       0.0432332208177\n",
      "sweet potato fries   0.0383060287064\n",
      "carmi family         0.0380955470811\n",
      "-----------------------------\n"
     ]
    }
   ],
   "source": [
    "#sort result by tfidf and output sorted result\n",
    "sorted_phrase_scores2 = process_prase_score(dense2[12])\n",
    "print(len(sorted_phrase_scores2))\n",
    "#Set the number of words to show up\n",
    "for phrase2, score2 in [(feature_names2[word_id], score2) for (word_id, score2) in sorted_phrase_scores2][:50]:\n",
    "    #Filter single words out\n",
    "    if len(phrase2.split()) > 1:\n",
    "        print('{0: <20} {1}'.format(phrase2, score2))\n",
    "print('-----------------------------')"
   ]
  },
  {
   "cell_type": "code",
   "execution_count": null,
   "metadata": {
    "collapsed": true
   },
   "outputs": [],
   "source": []
  },
  {
   "cell_type": "code",
   "execution_count": null,
   "metadata": {
    "collapsed": true
   },
   "outputs": [],
   "source": []
  },
  {
   "cell_type": "code",
   "execution_count": 42,
   "metadata": {
    "collapsed": true
   },
   "outputs": [],
   "source": [
    "#get recommended words by rating\n",
    "data = []\n",
    "for key, value in rating.items():\n",
    "    data.append(value)"
   ]
  },
  {
   "cell_type": "code",
   "execution_count": 64,
   "metadata": {
    "collapsed": false
   },
   "outputs": [
    {
     "name": "stdout",
     "output_type": "stream",
     "text": [
      "5\n"
     ]
    }
   ],
   "source": [
    "#analyze tfidf of reviews\n",
    "tf3 = TfidfVectorizer(analyzer='word', ngram_range=(1,3), min_df = 0, stop_words = 'english')\n",
    "tfidf_matrix3 = tf3.fit_transform(data)\n",
    "feature_names3 = tf3.get_feature_names()\n",
    "\n",
    "dense3 = tfidf_matrix3.todense()\n",
    "print(len(dense3))"
   ]
  },
  {
   "cell_type": "code",
   "execution_count": 68,
   "metadata": {
    "collapsed": false,
    "scrolled": true
   },
   "outputs": [
    {
     "name": "stdout",
     "output_type": "stream",
     "text": [
      "2828049\n",
      "great                                                                                                0.31081059804\n",
      "place                                                                                                0.289763559572\n",
      "food                                                                                                 0.261134102685\n",
      "good                                                                                                 0.226430484208\n",
      "just                                                                                                 0.167896407844\n",
      "like                                                                                                 0.164249168604\n",
      "pittsburgh                                                                                           0.16176740055\n",
      "best                                                                                                 0.160588217939\n",
      "time                                                                                                 0.1583806784\n",
      "ve                                                                                                   0.151168468475\n",
      "really                                                                                               0.139102413848\n",
      "love                                                                                                 0.129764932939\n",
      "service                                                                                              0.128626884604\n",
      "delicious                                                                                            0.126391922213\n",
      "amazing                                                                                              0.108731605896\n",
      "friendly                                                                                             0.0984891708894\n",
      "nice                                                                                                 0.0947322402443\n",
      "try                                                                                                  0.0870264189942\n",
      "definitely                                                                                           0.0862860020057\n",
      "got                                                                                                  0.0861625991743\n",
      "staff                                                                                                0.0853124907802\n",
      "don                                                                                                  0.0845309395146\n",
      "menu                                                                                                 0.0839961939118\n",
      "restaurant                                                                                           0.0807602974438\n",
      "little                                                                                               0.0796633833868\n",
      "make                                                                                                 0.0743570616363\n",
      "favorite                                                                                             0.0737126246278\n",
      "bar                                                                                                  0.0715050850882\n",
      "fresh                                                                                                0.06894104848\n",
      "people                                                                                               0.0664592804262\n",
      "recommend                                                                                            0.0664592804262\n",
      "awesome                                                                                              0.0656777291606\n",
      "chicken                                                                                              0.0647864864893\n",
      "ordered                                                                                              0.0643751437179\n",
      "experience                                                                                           0.0638541095409\n",
      "went                                                                                                 0.0636621495809\n",
      "cheese                                                                                               0.0634564781952\n",
      "new                                                                                                  0.0620990470497\n",
      "pizza                                                                                                0.0620030670698\n",
      "wait                                                                                                 0.061468321467\n",
      "come                                                                                                 0.0601657360243\n",
      "right                                                                                                0.0597406818273\n",
      "day                                                                                                  0.0593841847588\n",
      "excellent                                                                                            0.0585340763646\n",
      "order                                                                                                0.0578622165047\n",
      "going                                                                                                0.0576291222676\n",
      "night                                                                                                0.0576154108419\n",
      "know                                                                                                 0.0574097394562\n",
      "perfect                                                                                              0.0555449855594\n",
      "did                                                                                                  0.0547771457195\n",
      "coffee                                                                                               0.0535568288311\n",
      "want                                                                                                 0.053419714574\n",
      "sauce                                                                                                0.0530495060798\n",
      "came                                                                                                 0.0529123918227\n",
      "way                                                                                                  0.0526244518827\n",
      "atmosphere                                                                                           0.0509105236687\n",
      "say                                                                                                  0.0506500065802\n",
      "sure                                                                                                 0.0503209323631\n",
      "meal                                                                                                 0.0502112409574\n",
      "ll                                                                                                   0.0497587639089\n",
      "beer                                                                                                 0.0497450524832\n",
      "eat                                                                                                  0.0494022668404\n",
      "dinner                                                                                               0.0491280383262\n",
      "better                                                                                               0.048469889892\n",
      "think                                                                                                0.0480722585463\n",
      "small                                                                                                0.0478528757349\n",
      "didn                                                                                                 0.0453025505525\n",
      "lunch                                                                                                0.0446444021183\n",
      "worth                                                                                                0.0444661535841\n",
      "fantastic                                                                                            0.0437394480213\n",
      "pretty                                                                                               0.0437394480213\n",
      "selection                                                                                            0.0431224338643\n",
      "work                                                                                                 0.0426425339644\n",
      "area                                                                                                 0.0424917082815\n",
      "wonderful                                                                                            0.0419021169759\n",
      "visit                                                                                                0.0410245857304\n",
      "home                                                                                                 0.0410108743047\n",
      "happy                                                                                                0.040805202919\n",
      "highly                                                                                               0.0407777800675\n",
      "sandwich                                                                                             0.0406818000876\n",
      "super                                                                                                0.0405446858304\n",
      "times                                                                                                0.0402019001876\n",
      "tried                                                                                                0.0401744773362\n",
      "salad                                                                                                0.0398728259706\n",
      "feel                                                                                                 0.0398454031191\n",
      "different                                                                                            0.0392969460906\n",
      "loved                                                                                                0.0391186975564\n",
      "city                                                                                                 0.0389678718736\n",
      "lot                                                                                                  0.0388718918936\n",
      "years                                                                                                0.0387484890622\n",
      "prices                                                                                               0.038707354785\n",
      "sweet                                                                                                0.0385153948251\n",
      "drinks                                                                                               0.0379806492223\n",
      "looking                                                                                              0.0378709578166\n",
      "hot                                                                                                  0.0377475549852\n",
      "bit                                                                                                  0.0374596150452\n",
      "things                                                                                               0.036993426571\n",
      "table                                                                                                0.0359376467912\n",
      "friends                                                                                              0.0355948611484\n",
      "cream                                                                                                0.0350464041199\n",
      "-----------------------------\n"
     ]
    }
   ],
   "source": [
    "#pointless\n",
    "episode3 = dense3[4].tolist()[0]\n",
    "phrase_scores3 = [pair3 for pair3 in zip(range(0, len(episode3)), episode3) if pair3[1] > 0]\n",
    "\n",
    "sorted_phrase_scores3 = sorted(phrase_scores3, key=lambda t: t[1] * -1)\n",
    "print(len(sorted_phrase_scores3))\n",
    "for phrase3, score3 in [(feature_names3[word_id], score3) for (word_id, score3) in sorted_phrase_scores3][:100]:\n",
    "    print('{0: <100} {1}'.format(phrase3, score3))\n",
    "print('-----------------------------')"
   ]
  },
  {
   "cell_type": "code",
   "execution_count": 161,
   "metadata": {
    "collapsed": false
   },
   "outputs": [
    {
     "name": "stdout",
     "output_type": "stream",
     "text": [
      "920486\n",
      "1034648\n",
      "1514277\n",
      "2634278\n",
      "2828049\n",
      "920486\n",
      "1034648\n",
      "1514277\n",
      "2634278\n",
      "2828049\n"
     ]
    }
   ],
   "source": [
    "#Filter words which appear in three different rating group out\n",
    "tmp_data_rating = {}\n",
    "for i in range(len(dense3)):\n",
    "    episode_tmp = dense3[i].tolist()[0]\n",
    "    phrase_scores_tmp = [pair3 for pair3 in zip(range(0, len(episode_tmp)), episode_tmp) if pair3[1] > 0]\n",
    "\n",
    "    sorted_phrase_scores_tmp = sorted(phrase_scores_tmp, key=lambda t: t[1] * -1)\n",
    "    print(len(sorted_phrase_scores_tmp))\n",
    "    for phrase3, score3 in [(feature_names3[word_id], score3) for (word_id, score3) in sorted_phrase_scores_tmp][:300]:\n",
    "        if phrase3 in tmp_data_rating:\n",
    "            tmp_data_rating[phrase3] += 1\n",
    "        else:\n",
    "            tmp_data_rating[phrase3] = 1\n",
    "\n",
    "data_rating = []\n",
    "for i in range(len(dense3)):\n",
    "    episode_tmp = dense3[i].tolist()[0]\n",
    "    phrase_scores_tmp = [pair3 for pair3 in zip(range(0, len(episode_tmp)), episode_tmp) if pair3[1] > 0]\n",
    "    tmp = []\n",
    "    sorted_phrase_scores_tmp = sorted(phrase_scores_tmp, key=lambda t: t[1] * -1)\n",
    "    print(len(sorted_phrase_scores_tmp))\n",
    "    for phrase3, score3 in [(feature_names3[word_id], score3) for (word_id, score3) in sorted_phrase_scores_tmp][:300]:\n",
    "        if tmp_data_rating[phrase3] <= 2:\n",
    "            tmp.append(phrase3)\n",
    "    data_rating.append(tmp)"
   ]
  },
  {
   "cell_type": "code",
   "execution_count": 159,
   "metadata": {
    "collapsed": false
   },
   "outputs": [
    {
     "name": "stdout",
     "output_type": "stream",
     "text": [
      "5\n",
      "0\n",
      "0\n",
      "0\n",
      "0\n",
      "0\n"
     ]
    }
   ],
   "source": [
    "#pointless\n",
    "print(len(data_rating))\n",
    "for d in data_rating:\n",
    "    print(len(d))"
   ]
  },
  {
   "cell_type": "code",
   "execution_count": 165,
   "metadata": {
    "collapsed": false
   },
   "outputs": [
    {
     "name": "stdout",
     "output_type": "stream",
     "text": [
      "####star_rating1####\n",
      "called\n",
      "manager\n",
      "worst\n",
      "customer\n",
      "rude\n",
      "money\n",
      "terrible\n",
      "horrible\n",
      "later\n",
      "waited\n",
      "owner\n",
      "walked\n",
      "customers\n",
      "phone\n",
      "15\n",
      "leave\n",
      "awful\n",
      "hair\n",
      "customer service\n",
      "poor\n",
      "####star_rating2####\n",
      "okay\n",
      "average\n",
      "money\n",
      "15\n",
      "mediocre\n",
      "waited\n",
      "terrible\n",
      "later\n",
      "customer\n",
      "expect\n",
      "disappointing\n",
      "unfortunately\n",
      "brought\n",
      "overpriced\n",
      "expensive\n",
      "customers\n",
      "walked\n",
      "poor\n",
      "rude\n",
      "manager\n",
      "####star_rating3####\n",
      "okay\n",
      "average\n",
      "food good\n",
      "liked\n",
      "expect\n",
      "portion\n",
      "portions\n",
      "burgers\n",
      "expensive\n",
      "happy hour\n",
      "size\n",
      "unfortunately\n",
      "saturday\n",
      "interesting\n",
      "expected\n",
      "really good\n",
      "stopped\n",
      "late\n",
      "crowded\n",
      "egg\n",
      "####star_rating4####\n",
      "perfect\n",
      "loved\n",
      "fantastic\n",
      "really good\n",
      "liked\n",
      "perfectly\n",
      "flavors\n",
      "portions\n",
      "wonderful\n",
      "wish\n",
      "town\n",
      "portion\n",
      "great place\n",
      "lots\n",
      "size\n",
      "course\n",
      "variety\n",
      "reasonable\n",
      "crispy\n",
      "grilled\n",
      "####star_rating5####\n",
      "perfect\n",
      "fantastic\n",
      "wonderful\n",
      "highly\n",
      "loved\n",
      "highly recommend\n",
      "perfectly\n",
      "beautiful\n",
      "town\n",
      "helpful\n",
      "owner\n",
      "hair\n",
      "park\n",
      "flavors\n",
      "year\n",
      "cake\n",
      "unique\n",
      "course\n",
      "reasonable\n",
      "ice cream\n"
     ]
    }
   ],
   "source": [
    "#0: worst rating; 4:best rating\n",
    "for i in range(len(data_rating)):\n",
    "    print('####star_rating' + str(i + 1) + '####')\n",
    "    index = 0\n",
    "    for data_r in data_rating[i]:\n",
    "        index += 1\n",
    "        print(data_r)\n",
    "        if index == 20:\n",
    "            break"
   ]
  },
  {
   "cell_type": "code",
   "execution_count": 158,
   "metadata": {
    "collapsed": false
   },
   "outputs": [],
   "source": []
  },
  {
   "cell_type": "code",
   "execution_count": null,
   "metadata": {
    "collapsed": true
   },
   "outputs": [],
   "source": []
  }
 ],
 "metadata": {
  "anaconda-cloud": {},
  "kernelspec": {
   "display_name": "Python [default]",
   "language": "python",
   "name": "python2"
  },
  "language_info": {
   "codemirror_mode": {
    "name": "ipython",
    "version": 2
   },
   "file_extension": ".py",
   "mimetype": "text/x-python",
   "name": "python",
   "nbconvert_exporter": "python",
   "pygments_lexer": "ipython2",
   "version": "2.7.12"
  }
 },
 "nbformat": 4,
 "nbformat_minor": 1
}
